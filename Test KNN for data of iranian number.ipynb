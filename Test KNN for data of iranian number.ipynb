{
  "nbformat": 4,
  "nbformat_minor": 0,
  "metadata": {
    "colab": {
      "name": "Untitled3_(1).ipynb",
      "provenance": [],
      "collapsed_sections": [],
      "include_colab_link": true
    },
    "kernelspec": {
      "name": "python3",
      "display_name": "Python 3"
    },
    "language_info": {
      "name": "python"
    }
  },
  "cells": [
    {
      "cell_type": "markdown",
      "metadata": {
        "id": "view-in-github",
        "colab_type": "text"
      },
      "source": [
        "<a href=\"https://colab.research.google.com/github/SH-pourya/Solve-a-simple-attitude-control/blob/main/Test%20KNN%20for%20data%20of%20iranian%20number.ipynb\" target=\"_parent\"><img src=\"https://colab.research.google.com/assets/colab-badge.svg\" alt=\"Open In Colab\"/></a>"
      ]
    },
    {
      "cell_type": "markdown",
      "source": [
        "this Example write with KNN method for classifier\n",
        "goal of this example is determine of persian numbers from images\n",
        "\n",
        "dateset used in this example: https://www.kaggle.com/datasets/sajjadsoroori/iranis\n",
        "\n",
        "or: https://github.com/alitourani/Iranis-dataset\n"
      ],
      "metadata": {
        "id": "6AJLEhJC5ZKW"
      }
    },
    {
      "cell_type": "code",
      "execution_count": 1,
      "metadata": {
        "id": "I9helWENBu22"
      },
      "outputs": [],
      "source": [
        "import os\n",
        "import numpy as np\n",
        "import pandas as pd\n",
        "import matplotlib.pyplot as plt\n",
        "\n",
        "from sklearn.model_selection import train_test_split\n",
        "from scipy.stats import mode\n",
        "\n",
        "from sklearn.neighbors import KNeighborsClassifier\n",
        "from sklearn.metrics import classification_report\n",
        "\n",
        "from sklearn.metrics import mean_squared_error\n",
        "#from sklearn.metrics import r2_score\n",
        "\n",
        "from sklearn.model_selection import cross_val_score\n",
        "\n",
        "from PIL import Image\n",
        "from PIL import ImageOps\n",
        "\n",
        "from urllib.request import urlretrieve"
      ]
    },
    {
      "cell_type": "code",
      "source": [
        "data_url = \"https://github.com/alitourani/Iranis-dataset/archive/refs/heads/master.zip\""
      ],
      "metadata": {
        "id": "UtMqsBhKjR-S"
      },
      "execution_count": 2,
      "outputs": []
    },
    {
      "cell_type": "code",
      "source": [
        "urlretrieve(data_url, 'master.zip')"
      ],
      "metadata": {
        "colab": {
          "base_uri": "https://localhost:8080/"
        },
        "id": "tN2pc4eiGYXp",
        "outputId": "37cd0605-1b09-41fa-ec63-cd15b65165a2"
      },
      "execution_count": 3,
      "outputs": [
        {
          "output_type": "execute_result",
          "data": {
            "text/plain": [
              "('master.zip', <http.client.HTTPMessage at 0x7f20a246dc90>)"
            ]
          },
          "metadata": {},
          "execution_count": 3
        }
      ]
    },
    {
      "cell_type": "code",
      "source": [
        "!ls"
      ],
      "metadata": {
        "colab": {
          "base_uri": "https://localhost:8080/"
        },
        "id": "KcpH3K18Kdyj",
        "outputId": "9f5b9f64-f338-401c-bcbc-6af0c6f4952c"
      },
      "execution_count": 4,
      "outputs": [
        {
          "output_type": "stream",
          "name": "stdout",
          "text": [
            "master.zip  sample_data\n"
          ]
        }
      ]
    },
    {
      "cell_type": "markdown",
      "source": [
        "rename zip file name to: *LsDIranianV*\n",
        "\n",
        "The name of the file is abbreviated Large-scale Dataset of Iranian Vehicles License Plate Characters"
      ],
      "metadata": {
        "id": "avK5mRon_Ioq"
      }
    },
    {
      "cell_type": "code",
      "source": [
        "!unzip master.zip"
      ],
      "metadata": {
        "id": "9gL5lGZVI2ks",
        "colab": {
          "base_uri": "https://localhost:8080/"
        },
        "outputId": "3672c3b0-ab88-48e2-c4ae-0878c5146f3f"
      },
      "execution_count": 5,
      "outputs": [
        {
          "output_type": "stream",
          "name": "stdout",
          "text": [
            "Archive:  master.zip\n",
            "1e3c1df3bc01a8e2580fe3c80ecdac661be6881b\n",
            "   creating: Iranis-dataset-master/\n",
            "  inflating: Iranis-dataset-master/Iranis Dataset Files.zip  \n",
            "  inflating: Iranis-dataset-master/LICENSE  \n",
            "  inflating: Iranis-dataset-master/README.md  \n",
            "  inflating: Iranis-dataset-master/_config.yml  \n",
            "   creating: Iranis-dataset-master/_doc/\n",
            "  inflating: Iranis-dataset-master/_doc/Iranis_License_Plates.png  \n"
          ]
        }
      ]
    },
    {
      "cell_type": "code",
      "source": [
        "dire = \"/content/Iranis-dataset-master\"\n",
        "file_name = os.listdir(dire)[3]\n",
        "dinal_name = \"/content/Iranis-dataset-master/LsDIranianV.zip\"\n",
        "os.rename(dire+'/'+file_name, dinal_name)"
      ],
      "metadata": {
        "id": "NPPGCw8Ri0Ep"
      },
      "execution_count": 30,
      "outputs": []
    },
    {
      "cell_type": "code",
      "source": [
        "!unzip  /content/Iranis-dataset-master/LsDIranianV.zip"
      ],
      "metadata": {
        "id": "DLn0rkegRI56"
      },
      "execution_count": null,
      "outputs": []
    },
    {
      "cell_type": "markdown",
      "source": [
        "Test Image:"
      ],
      "metadata": {
        "id": "MTVLT5gThE68"
      }
    },
    {
      "cell_type": "code",
      "source": [
        "Im1 = plt.imread(str(2) + '/' + str(2) + ' ('+ str(1) + ')' + '.jpg')\n",
        "plt.imshow(Im1) #showing an example\n",
        "print(Im1.shape)\n",
        "Im2 = Image.open(str(0) + '/' + str(0) + ' ('+ str(1) + ')' + '.jpg')\n",
        "print(Im2.mode)\n",
        "print(Im2.size)\n",
        "Im2 = ImageOps.grayscale(Im2)\n",
        "print(Im2.mode)\n",
        "print(Im2.size)\n",
        "plt.imshow(Im2) #showing an example\n",
        "N_S = (20, 40)\n",
        "Im2 = Im2.resize(N_S)\n",
        "print(Im2.mode)\n",
        "print(Im2.size)\n",
        "plt.imshow(Im2) #showing an example\n",
        "Im2 = np.array(Im2)\n",
        "Im2.shape"
      ],
      "metadata": {
        "colab": {
          "base_uri": "https://localhost:8080/",
          "height": 406
        },
        "id": "ZtNgBUSbQzs9",
        "outputId": "efc160b4-de63-4e67-eabb-23bd9317f5f7"
      },
      "execution_count": 34,
      "outputs": [
        {
          "output_type": "stream",
          "name": "stdout",
          "text": [
            "(44, 19, 3)\n",
            "RGB\n",
            "(9, 14)\n",
            "L\n",
            "(9, 14)\n",
            "L\n",
            "(20, 40)\n"
          ]
        },
        {
          "output_type": "execute_result",
          "data": {
            "text/plain": [
              "(40, 20)"
            ]
          },
          "metadata": {},
          "execution_count": 34
        },
        {
          "output_type": "display_data",
          "data": {
            "text/plain": [
              "<Figure size 432x288 with 1 Axes>"
            ],
            "image/png": "[encoded data removed]"
          },
          "metadata": {
            "needs_background": "light"
          }
        }
      ]
    },
    {
      "cell_type": "code",
      "source": [
        "Im_flat = np.zeros((38655, 40*20))\n",
        "cnt = 0\n",
        "target = np.zeros((38655))"
      ],
      "metadata": {
        "id": "PxC2209rKbJQ"
      },
      "execution_count": 35,
      "outputs": []
    },
    {
      "cell_type": "code",
      "source": [
        ""
      ],
      "metadata": {
        "id": "J6KhEy9JO7LA"
      },
      "execution_count": null,
      "outputs": []
    },
    {
      "cell_type": "code",
      "source": [
        "for i in range(10):\n",
        "  ls = os.listdir(str(i))\n",
        "  print(i)\n",
        "  print(len(ls))\n",
        "  for image_path in ls:\n",
        "    Im3 = plt.imread(str(i) + '/' + image_path)\n",
        "    plt.imshow(Im3)\n",
        "    \n",
        "    ##\n",
        "    Im = Image.open(str(i) + '/' + image_path)\n",
        "    New_Size = (20, 40)\n",
        "    Im = ImageOps.grayscale(Im)\n",
        "    Im = Im.resize(New_Size)\n",
        "    #print(Im.size)\n",
        "    Im = np.array(Im)\n",
        "    Im.shape\n",
        "    #print(Im.shape)\n",
        "    ##\n",
        "    Im_flat[cnt,:] = Im.reshape(-1) #flatten\n",
        "    target[cnt] = i\n",
        "    cnt += 1\n",
        "    #print(cnt)\n",
        "print(cnt)\n",
        "plt.imshow(Im) #showing an example"
      ],
      "metadata": {
        "id": "G3ftWxFvMktP",
        "colab": {
          "base_uri": "https://localhost:8080/",
          "height": 649
        },
        "outputId": "078515b2-235e-44c7-978b-ae1468a7a584"
      },
      "execution_count": 37,
      "outputs": [
        {
          "output_type": "stream",
          "name": "stdout",
          "text": [
            "0\n",
            "2501\n",
            "1\n",
            "3495\n",
            "2\n",
            "3930\n",
            "3\n",
            "2745\n",
            "4\n",
            "5774\n",
            "5\n",
            "3610\n",
            "6\n",
            "5753\n",
            "7\n",
            "3736\n",
            "8\n",
            "3583\n",
            "9\n",
            "3528\n",
            "38655\n"
          ]
        },
        {
          "output_type": "execute_result",
          "data": {
            "text/plain": [
              "<matplotlib.image.AxesImage at 0x7f2070497dd0>"
            ]
          },
          "metadata": {},
          "execution_count": 37
        },
        {
          "output_type": "display_data",
          "data": {
            "text/plain": [
              "<Figure size 432x288 with 1 Axes>"
            ],
            "image/png": "[encoded data removed]"
          },
          "metadata": {
            "needs_background": "light"
          }
        }
      ]
    },
    {
      "cell_type": "code",
      "source": [
        "X_train, X_test, y_train, y_test = train_test_split(Im_flat, target, test_size=0.22)"
      ],
      "metadata": {
        "id": "WCJ-83RziAlu"
      },
      "execution_count": 38,
      "outputs": []
    },
    {
      "cell_type": "code",
      "source": [
        "knn_image = KNeighborsClassifier(n_neighbors=5, algorithm='brute', p=2)"
      ],
      "metadata": {
        "id": "vXxpKGU_iZII"
      },
      "execution_count": 39,
      "outputs": []
    },
    {
      "cell_type": "code",
      "source": [
        "knn_image.fit(X_train, y_train)"
      ],
      "metadata": {
        "colab": {
          "base_uri": "https://localhost:8080/"
        },
        "id": "LzcjEp9_iyIa",
        "outputId": "92d41001-4635-4977-f598-15666a0bc44e"
      },
      "execution_count": 40,
      "outputs": [
        {
          "output_type": "execute_result",
          "data": {
            "text/plain": [
              "KNeighborsClassifier(algorithm='brute')"
            ]
          },
          "metadata": {},
          "execution_count": 40
        }
      ]
    },
    {
      "cell_type": "code",
      "source": [
        "y_pred3 = knn_image.predict(X_test)"
      ],
      "metadata": {
        "id": "Ts558XJxi4dR"
      },
      "execution_count": 41,
      "outputs": []
    },
    {
      "cell_type": "code",
      "source": [
        "print(classification_report(y_test, y_pred3))"
      ],
      "metadata": {
        "colab": {
          "base_uri": "https://localhost:8080/"
        },
        "id": "n_TOrolFi926",
        "outputId": "e59982fd-a69b-4ebc-c22b-09690862aeb3"
      },
      "execution_count": 42,
      "outputs": [
        {
          "output_type": "stream",
          "name": "stdout",
          "text": [
            "              precision    recall  f1-score   support\n",
            "\n",
            "         0.0       0.99      1.00      0.99       567\n",
            "         1.0       0.99      0.99      0.99       757\n",
            "         2.0       0.96      0.96      0.96       854\n",
            "         3.0       0.94      0.94      0.94       582\n",
            "         4.0       0.99      0.99      0.99      1290\n",
            "         5.0       0.99      0.99      0.99       771\n",
            "         6.0       1.00      0.99      0.99      1238\n",
            "         7.0       0.99      0.99      0.99       829\n",
            "         8.0       1.00      1.00      1.00       792\n",
            "         9.0       1.00      0.99      0.99       825\n",
            "\n",
            "    accuracy                           0.99      8505\n",
            "   macro avg       0.98      0.99      0.99      8505\n",
            "weighted avg       0.99      0.99      0.99      8505\n",
            "\n"
          ]
        }
      ]
    },
    {
      "cell_type": "markdown",
      "source": [
        "test KNN function: "
      ],
      "metadata": {
        "id": "rc99acBJVezh"
      }
    },
    {
      "cell_type": "code",
      "source": [
        "print(y_pred3)"
      ],
      "metadata": {
        "colab": {
          "base_uri": "https://localhost:8080/"
        },
        "id": "HAp14AMImU1v",
        "outputId": "64ceb884-0342-46b1-8486-7e5e0177b639"
      },
      "execution_count": 43,
      "outputs": [
        {
          "output_type": "stream",
          "name": "stdout",
          "text": [
            "[4. 3. 1. ... 7. 4. 0.]\n"
          ]
        }
      ]
    },
    {
      "cell_type": "code",
      "source": [
        ""
      ],
      "metadata": {
        "id": "6bHVwxTglitr"
      },
      "execution_count": null,
      "outputs": []
    },
    {
      "cell_type": "code",
      "source": [
        "#define KNN function\n",
        "def KNN(X_train, y_train, x_test, K=1, order_P=1):\n",
        "  dist = np.linalg.norm(X_train.values - x_test, ord=order_P, axis=1)\n",
        "  sorted_arg_dist = np.argsort(dist)\n",
        "  y_nn = y_train.values[sorted_arg_dist[:K]]\n",
        "  return mode(y_nn)[0][0]"
      ],
      "metadata": {
        "id": "gjR_olAflie2"
      },
      "execution_count": 44,
      "outputs": []
    },
    {
      "cell_type": "code",
      "source": [
        "#prediction phase\n",
        "y_pred1 = np.zeros(len(X_test))\n",
        "X_train1 = pd.DataFrame(X_train)\n",
        "X_test1 = pd.DataFrame(X_test)\n",
        "y_train1 = pd.Series(y_train) \n",
        "for i in range(len(X_test)):\n",
        "  print(len(X_test)-i)\n",
        "  y_pred1[i] = KNN(X_train1, y_train1, X_test1.values[i], K=5, order_P=2)"
      ],
      "metadata": {
        "id": "LhjFngmFjk4e"
      },
      "execution_count": null,
      "outputs": []
    },
    {
      "cell_type": "code",
      "source": [
        "print(classification_report(y_test, y_pred1))"
      ],
      "metadata": {
        "colab": {
          "base_uri": "https://localhost:8080/"
        },
        "id": "SG9BldTUZIf0",
        "outputId": "919408d9-eb6b-42f1-da08-51545ad70a68"
      },
      "execution_count": 46,
      "outputs": [
        {
          "output_type": "stream",
          "name": "stdout",
          "text": [
            "              precision    recall  f1-score   support\n",
            "\n",
            "         0.0       0.99      1.00      0.99       567\n",
            "         1.0       0.99      0.99      0.99       757\n",
            "         2.0       0.96      0.96      0.96       854\n",
            "         3.0       0.94      0.94      0.94       582\n",
            "         4.0       0.99      0.99      0.99      1290\n",
            "         5.0       0.99      0.99      0.99       771\n",
            "         6.0       1.00      0.99      0.99      1238\n",
            "         7.0       0.99      0.99      0.99       829\n",
            "         8.0       1.00      1.00      1.00       792\n",
            "         9.0       1.00      0.99      0.99       825\n",
            "\n",
            "    accuracy                           0.99      8505\n",
            "   macro avg       0.98      0.99      0.99      8505\n",
            "weighted avg       0.99      0.99      0.99      8505\n",
            "\n"
          ]
        }
      ]
    }
  ]
}